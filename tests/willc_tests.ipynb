{
 "cells": [
  {
   "cell_type": "markdown",
   "metadata": {},
   "source": [
    "# 080420 verbosify apostrophes and plural"
   ]
  },
  {
   "cell_type": "code",
   "execution_count": 132,
   "metadata": {},
   "outputs": [
    {
     "name": "stdout",
     "output_type": "stream",
     "text": [
      "6\n"
     ]
    }
   ],
   "source": [
    "for i in range(10):\n",
    "    if i == 6: break\n",
    "\n",
    "print(i)"
   ]
  },
  {
   "cell_type": "code",
   "execution_count": 139,
   "metadata": {},
   "outputs": [
    {
     "name": "stdout",
     "output_type": "stream",
     "text": [
      "{\"I'm\", 'I am', 'ur boy is'}\n",
      "{'wassup'}\n"
     ]
    },
    {
     "data": {
      "text/plain": [
       "[None, None]"
      ]
     },
     "execution_count": 139,
     "metadata": {},
     "output_type": "execute_result"
    }
   ],
   "source": [
    "[print(s) for s in [{\"I'm\", 'I am', 'ur boy is'}, {'wassup'}]]"
   ]
  },
  {
   "cell_type": "code",
   "execution_count": 177,
   "metadata": {},
   "outputs": [],
   "source": [
    "import random\n",
    "import re\n",
    "from nltk.corpus import wordnet\n",
    "from nltk import pos_tag\n",
    "\n",
    "# -- Helper functions for verbosify -- #\n",
    "MISSPELLINGS = {'im': \"I'm\", \"i'm\": \"I'm\", 'Im': \"I'm\", 'i': 'I'}\n",
    "WHITELIST = [['a', 'an', 'the'],\n",
    "             ['I', 'me', 'ur boy', 'me, myself and I', 'yours truly'],\n",
    "             ['you', 'thou', 'thoust'],\n",
    "             ['will', 'shall', 'shalt'],\n",
    "             [\"I'm\", 'I am', 'ur boy is'],\n",
    "             [\"can't\", 'cannot', 'unable', 'shant'],\n",
    "             [\"shouldn't\", 'shant', \"shalln't\"],\n",
    "             [\"you're\", 'you are']]\n",
    "\n",
    "def get_word_list(input_sentence):\n",
    "    l = []\n",
    "    temp = [v for v in re.split('(\\W)', input_sentence) if v != '']\n",
    "    \n",
    "    i = 0\n",
    "    while i < len(temp):\n",
    "        if temp[i] in [\"'\", '’'] and i > 0 and i < len(temp)-1:\n",
    "            # check possessive\n",
    "            if temp[i+1] == 's': l.append(\"'s\")\n",
    "            # check contraction\n",
    "            elif temp[i-1] != ' ' and temp[i+1] != ' ': l[-1] += \"'\" + temp[i+1]\n",
    "            \n",
    "            i += 2\n",
    "        else:\n",
    "            l.append(temp[i])\n",
    "            i += 1\n",
    "    \n",
    "    return l\n",
    "            \n",
    "\n",
    "def get_synonym(word, pos):\n",
    "    synsets = wordnet.synsets(word)\n",
    "    synonyms = []\n",
    "\n",
    "    # loop through all synsets\n",
    "    for synset in synsets:\n",
    "        # don't check synset if wrong part of speech\n",
    "        if synset.name().split('.')[1] not in pos: continue\n",
    "\n",
    "        # loop through each synonym\n",
    "        for synonym in synset.lemmas():\n",
    "            synonym = synonym.name()\n",
    "            if synonym != word and synonym not in synonyms: synonyms.append(synonym)\n",
    "    \n",
    "    # no unique synonyms?\n",
    "    if not synsets or not synonyms: return word\n",
    "    # otherwise, choose random synonym\n",
    "    return random.choice(synonyms).replace('_', ' ')\n",
    "\n",
    "def get_whitelist_synonym(word):\n",
    "    # get the correct set\n",
    "    for synonyms in WHITELIST:\n",
    "        if word in synonyms: break\n",
    "\n",
    "    return random.choice(synonyms) # return random synonym\n",
    "\n",
    "def get_wordnet_pos(treebank_tag):\n",
    "    if treebank_tag.startswith('J'): return 'as'\n",
    "    elif treebank_tag.startswith('V'): return 'v'\n",
    "    elif treebank_tag.startswith('N'): return 'n'\n",
    "    elif treebank_tag.startswith('R'): return 'r'\n",
    "    else: return ''\n",
    "\n",
    "\n",
    "# -- main verbosify function -- #\n",
    "def verbosify(input_sentence):\n",
    "    new_sentence = ''\n",
    "\n",
    "    # go through every word\n",
    "    for word, pos in pos_tag(get_word_list(input_sentence)):\n",
    "        # punctuation/whitespace/possessive, whitelist, whitelist misspellings, normal word\n",
    "        if re.match(r'[^\\w]', word) or word == \"'s\": new_sentence += word\n",
    "        elif any([word in s for s in WHITELIST]): new_sentence += get_whitelist_synonym(word)\n",
    "        elif word in MISSPELLINGS: new_sentence += get_whitelist_synonym(MISSPELLINGS[word])\n",
    "        else: new_sentence += get_synonym(word, get_wordnet_pos(pos))\n",
    "\n",
    "    # return the sentence\n",
    "    return new_sentence"
   ]
  },
  {
   "cell_type": "code",
   "execution_count": 178,
   "metadata": {},
   "outputs": [
    {
     "name": "stdout",
     "output_type": "stream",
     "text": [
      "I am aplomb. fundamentally, an lowest two metre yours truly be downstairs for a pass period of time of metre, me matte up a shrill sting bother where the medicinal drug exist use\n"
     ]
    }
   ],
   "source": [
    "print(verbosify(\"i'm cool. basically, the last two times i was downstairs for an extended period of time, i felt a sharp stinging pain where the medication was applied\"))"
   ]
  },
  {
   "cell_type": "code",
   "execution_count": 43,
   "metadata": {},
   "outputs": [
    {
     "data": {
      "text/plain": [
       "[(\"you're\", 'RB'),\n",
       " ('sad', 'JJ'),\n",
       " ('about', 'IN'),\n",
       " ('the', 'DT'),\n",
       " (\"mechanics'\", 'NN'),\n",
       " ('cars', 'NNS')]"
      ]
     },
     "execution_count": 43,
     "metadata": {},
     "output_type": "execute_result"
    }
   ],
   "source": [
    "pos_tag([\"you're\", 'sad', 'about', \"the\", \"mechanics\", 'cars'])"
   ]
  },
  {
   "cell_type": "code",
   "execution_count": 44,
   "metadata": {},
   "outputs": [],
   "source": [
    "from nltk.tokenize import word_tokenize"
   ]
  },
  {
   "cell_type": "code",
   "execution_count": 122,
   "metadata": {},
   "outputs": [
    {
     "data": {
      "text/plain": [
       "'unable'"
      ]
     },
     "execution_count": 122,
     "metadata": {},
     "output_type": "execute_result"
    }
   ],
   "source": [
    "get_synonym('unable', '')"
   ]
  },
  {
   "cell_type": "code",
   "execution_count": null,
   "metadata": {},
   "outputs": [],
   "source": []
  },
  {
   "cell_type": "code",
   "execution_count": 172,
   "metadata": {},
   "outputs": [
    {
     "data": {
      "text/plain": [
       "'I am try some misspelling — some “punctuation mark” — and me’500 sexual love to judge side’southward vulgar condensation, as well!'"
      ]
     },
     "execution_count": 172,
     "metadata": {},
     "output_type": "execute_result"
    }
   ],
   "source": [
    "input_sentence = \"im testing some misspellings — some “punctuation” — and I’d love to try English’s common contractions, too!\"\n",
    "verbosify(input_sentence)"
   ]
  },
  {
   "cell_type": "code",
   "execution_count": 180,
   "metadata": {
    "scrolled": true
   },
   "outputs": [
    {
     "name": "stdout",
     "output_type": "stream",
     "text": [
      "['im', ' ', 'testing', ' ', 'some', ' ', 'misspellings', ' ', '—', ' ', 'some', ' ', '“', 'punctuation', '”', ' ', '—', ' ', 'and', ' ', \"I'd\", ' ', 'love', ' ', 'to', ' ', 'try', ' ', 'English', \"'s\", ' ', 'common', ' ', 'contractions', ',', ' ', 'too', '!']\n"
     ]
    }
   ],
   "source": [
    "print(get_word_list(input_sentence))"
   ]
  },
  {
   "cell_type": "code",
   "execution_count": 176,
   "metadata": {},
   "outputs": [
    {
     "data": {
      "text/plain": [
       "False"
      ]
     },
     "execution_count": 176,
     "metadata": {},
     "output_type": "execute_result"
    }
   ],
   "source": [
    "'’' == \"'\""
   ]
  },
  {
   "cell_type": "markdown",
   "metadata": {},
   "source": [
    "# is gone"
   ]
  },
  {
   "cell_type": "code",
   "execution_count": null,
   "metadata": {},
   "outputs": [],
   "source": [
    "from PIL import Image, ImageDraw\n",
    "\n",
    "\n",
    "msg = \"hello\"\n",
    "\n",
    "im = Image.new(\"RGBA\",(W,H),\"yellow\")\n",
    "draw = ImageDraw.Draw(im)\n",
    "w, h = draw.textsize(msg)\n",
    "draw.text(((W-w)/2,(H-h)/2), msg, fill=\"black\")\n",
    "\n",
    "im.save(\"hello.png\", \"PNG\")"
   ]
  },
  {
   "cell_type": "code",
   "execution_count": 41,
   "metadata": {},
   "outputs": [
    {
     "data": {
      "text/plain": [
       "'burh'"
      ]
     },
     "execution_count": 41,
     "metadata": {},
     "output_type": "execute_result"
    }
   ],
   "source": [
    "'burh is gone'[:-8]"
   ]
  },
  {
   "cell_type": "code",
   "execution_count": 44,
   "metadata": {},
   "outputs": [],
   "source": [
    "text = 'bruh is gone'"
   ]
  },
  {
   "cell_type": "code",
   "execution_count": 97,
   "metadata": {},
   "outputs": [],
   "source": [
    "from PIL import Image, ImageDraw, ImageSequence, ImageFile, ImageFont\n",
    "import io\n",
    "ImageFile.LOAD_TRUNCATED_IMAGES = True\n",
    "\n",
    "W, H = (352,200)\n",
    "im = Image.open('../images/crabrave.gif')\n",
    "\n",
    "frames = []\n",
    "# Loop over each frame in the animated image\n",
    "for frame in ImageSequence.Iterator(im):\n",
    "    frame = frame.convert('RGB')\n",
    "    \n",
    "    # Draw the text on the frame\n",
    "    d = ImageDraw.Draw(frame)\n",
    "    color = '#fff'\n",
    "    \n",
    "    # draw message\n",
    "    myFont = ImageFont.truetype(\"GILLSANS.ttf\", 42)\n",
    "    top_msg = text[:-8].upper()\n",
    "    w, h = d.textsize(top_msg, font=myFont)\n",
    "    d.text(((W-w)/2, 50), top_msg, font=myFont, fill=color)\n",
    "    \n",
    "    w, h = d.textsize('IS GONE', font=myFont)\n",
    "    d.text(((W-w)/2, 100), 'IS GONE', font=myFont, fill=color)\n",
    "    \n",
    "    # draw line\n",
    "    d.line((int(W*0.15),H/2, int(W*0.85),H/2), fill=color)\n",
    "    \n",
    "    del d\n",
    "    \n",
    "    # save\n",
    "    b = io.BytesIO()\n",
    "    frame.save(b, format=\"GIF\")\n",
    "    frame = Image.open(b)\n",
    "\n",
    "    # Then append the single frame image to a list of frames\n",
    "    frames.append(frame)\n",
    "    \n",
    "# save frames as GIF\n",
    "frames[0].save('out.gif', save_all=True, append_images=frames[1:])"
   ]
  },
  {
   "cell_type": "code",
   "execution_count": 91,
   "metadata": {},
   "outputs": [],
   "source": [
    "im = Image.open('../images/crabrave.gif')\n",
    "\n",
    "for frame in ImageSequence.Iterator(im):\n",
    "    frame = frame.convert('RGB')"
   ]
  },
  {
   "cell_type": "code",
   "execution_count": 82,
   "metadata": {
    "scrolled": true
   },
   "outputs": [
    {
     "name": "stdout",
     "output_type": "stream",
     "text": [
      "<PIL.Image.Image image mode=RGB size=352x200 at 0x7FD71A30B190>\n"
     ]
    }
   ],
   "source": [
    "im = Image.open('../images/crabrave.gif').convert('RGB')\n"
   ]
  },
  {
   "cell_type": "code",
   "execution_count": 8,
   "metadata": {},
   "outputs": [],
   "source": [
    "im = Image.open('../images/crabrave.gif')\n",
    "ImageFile.LOAD_TRUNCATED_IMAGES = True\n",
    "\n",
    "for frame in ImageSequence.Iterator(im):\n",
    "    im.show()"
   ]
  },
  {
   "cell_type": "code",
   "execution_count": null,
   "metadata": {},
   "outputs": [],
   "source": []
  }
 ],
 "metadata": {
  "kernelspec": {
   "display_name": "Python 3",
   "language": "python",
   "name": "python3"
  },
  "language_info": {
   "codemirror_mode": {
    "name": "ipython",
    "version": 3
   },
   "file_extension": ".py",
   "mimetype": "text/x-python",
   "name": "python",
   "nbconvert_exporter": "python",
   "pygments_lexer": "ipython3",
   "version": "3.7.4"
  }
 },
 "nbformat": 4,
 "nbformat_minor": 2
}
