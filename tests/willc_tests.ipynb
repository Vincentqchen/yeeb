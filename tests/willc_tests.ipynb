{
 "cells": [
  {
   "cell_type": "markdown",
   "metadata": {},
   "source": [
    "# 080420 verbosify apostrophes and plural"
   ]
  },
  {
   "cell_type": "code",
   "execution_count": 132,
   "metadata": {},
   "outputs": [
    {
     "name": "stdout",
     "output_type": "stream",
     "text": [
      "6\n"
     ]
    }
   ],
   "source": [
    "for i in range(10):\n",
    "    if i == 6: break\n",
    "\n",
    "print(i)"
   ]
  },
  {
   "cell_type": "code",
   "execution_count": 139,
   "metadata": {},
   "outputs": [
    {
     "name": "stdout",
     "output_type": "stream",
     "text": [
      "{\"I'm\", 'I am', 'ur boy is'}\n",
      "{'wassup'}\n"
     ]
    },
    {
     "data": {
      "text/plain": [
       "[None, None]"
      ]
     },
     "execution_count": 139,
     "metadata": {},
     "output_type": "execute_result"
    }
   ],
   "source": [
    "[print(s) for s in [{\"I'm\", 'I am', 'ur boy is'}, {'wassup'}]]"
   ]
  },
  {
   "cell_type": "code",
   "execution_count": 177,
   "metadata": {},
   "outputs": [],
   "source": [
    "import random\n",
    "import re\n",
    "from nltk.corpus import wordnet\n",
    "from nltk import pos_tag\n",
    "\n",
    "# -- Helper functions for verbosify -- #\n",
    "MISSPELLINGS = {'im': \"I'm\", \"i'm\": \"I'm\", 'Im': \"I'm\", 'i': 'I'}\n",
    "WHITELIST = [['a', 'an', 'the'],\n",
    "             ['I', 'me', 'ur boy', 'me, myself and I', 'yours truly'],\n",
    "             ['you', 'thou', 'thoust'],\n",
    "             ['will', 'shall', 'shalt'],\n",
    "             [\"I'm\", 'I am', 'ur boy is'],\n",
    "             [\"can't\", 'cannot', 'unable', 'shant'],\n",
    "             [\"shouldn't\", 'shant', \"shalln't\"],\n",
    "             [\"you're\", 'you are']]\n",
    "\n",
    "def get_word_list(input_sentence):\n",
    "    l = []\n",
    "    temp = [v for v in re.split('(\\W)', input_sentence) if v != '']\n",
    "    \n",
    "    i = 0\n",
    "    while i < len(temp):\n",
    "        if temp[i] in [\"'\", '’'] and i > 0 and i < len(temp)-1:\n",
    "            # check possessive\n",
    "            if temp[i+1] == 's': l.append(\"'s\")\n",
    "            # check contraction\n",
    "            elif temp[i-1] != ' ' and temp[i+1] != ' ': l[-1] += \"'\" + temp[i+1]\n",
    "            \n",
    "            i += 2\n",
    "        else:\n",
    "            l.append(temp[i])\n",
    "            i += 1\n",
    "    \n",
    "    return l\n",
    "            \n",
    "\n",
    "def get_synonym(word, pos):\n",
    "    synsets = wordnet.synsets(word)\n",
    "    synonyms = []\n",
    "\n",
    "    # loop through all synsets\n",
    "    for synset in synsets:\n",
    "        # don't check synset if wrong part of speech\n",
    "        if synset.name().split('.')[1] not in pos: continue\n",
    "\n",
    "        # loop through each synonym\n",
    "        for synonym in synset.lemmas():\n",
    "            synonym = synonym.name()\n",
    "            if synonym != word and synonym not in synonyms: synonyms.append(synonym)\n",
    "    \n",
    "    # no unique synonyms?\n",
    "    if not synsets or not synonyms: return word\n",
    "    # otherwise, choose random synonym\n",
    "    return random.choice(synonyms).replace('_', ' ')\n",
    "\n",
    "def get_whitelist_synonym(word):\n",
    "    # get the correct set\n",
    "    for synonyms in WHITELIST:\n",
    "        if word in synonyms: break\n",
    "\n",
    "    return random.choice(synonyms) # return random synonym\n",
    "\n",
    "def get_wordnet_pos(treebank_tag):\n",
    "    if treebank_tag.startswith('J'): return 'as'\n",
    "    elif treebank_tag.startswith('V'): return 'v'\n",
    "    elif treebank_tag.startswith('N'): return 'n'\n",
    "    elif treebank_tag.startswith('R'): return 'r'\n",
    "    else: return ''\n",
    "\n",
    "\n",
    "# -- main verbosify function -- #\n",
    "def verbosify(input_sentence):\n",
    "    new_sentence = ''\n",
    "\n",
    "    # go through every word\n",
    "    for word, pos in pos_tag(get_word_list(input_sentence)):\n",
    "        # punctuation/whitespace/possessive, whitelist, whitelist misspellings, normal word\n",
    "        if re.match(r'[^\\w]', word) or word == \"'s\": new_sentence += word\n",
    "        elif any([word in s for s in WHITELIST]): new_sentence += get_whitelist_synonym(word)\n",
    "        elif word in MISSPELLINGS: new_sentence += get_whitelist_synonym(MISSPELLINGS[word])\n",
    "        else: new_sentence += get_synonym(word, get_wordnet_pos(pos))\n",
    "\n",
    "    # return the sentence\n",
    "    return new_sentence"
   ]
  },
  {
   "cell_type": "code",
   "execution_count": 178,
   "metadata": {},
   "outputs": [
    {
     "name": "stdout",
     "output_type": "stream",
     "text": [
      "I am aplomb. fundamentally, an lowest two metre yours truly be downstairs for a pass period of time of metre, me matte up a shrill sting bother where the medicinal drug exist use\n"
     ]
    }
   ],
   "source": [
    "print(verbosify(\"i'm cool. basically, the last two times i was downstairs for an extended period of time, i felt a sharp stinging pain where the medication was applied\"))"
   ]
  },
  {
   "cell_type": "code",
   "execution_count": 43,
   "metadata": {},
   "outputs": [
    {
     "data": {
      "text/plain": [
       "[(\"you're\", 'RB'),\n",
       " ('sad', 'JJ'),\n",
       " ('about', 'IN'),\n",
       " ('the', 'DT'),\n",
       " (\"mechanics'\", 'NN'),\n",
       " ('cars', 'NNS')]"
      ]
     },
     "execution_count": 43,
     "metadata": {},
     "output_type": "execute_result"
    }
   ],
   "source": [
    "pos_tag([\"you're\", 'sad', 'about', \"the\", \"mechanics\", 'cars'])"
   ]
  },
  {
   "cell_type": "code",
   "execution_count": 44,
   "metadata": {},
   "outputs": [],
   "source": [
    "from nltk.tokenize import word_tokenize"
   ]
  },
  {
   "cell_type": "code",
   "execution_count": 122,
   "metadata": {},
   "outputs": [
    {
     "data": {
      "text/plain": [
       "'unable'"
      ]
     },
     "execution_count": 122,
     "metadata": {},
     "output_type": "execute_result"
    }
   ],
   "source": [
    "get_synonym('unable', '')"
   ]
  },
  {
   "cell_type": "code",
   "execution_count": null,
   "metadata": {},
   "outputs": [],
   "source": []
  },
  {
   "cell_type": "code",
   "execution_count": 172,
   "metadata": {},
   "outputs": [
    {
     "data": {
      "text/plain": [
       "'I am try some misspelling — some “punctuation mark” — and me’500 sexual love to judge side’southward vulgar condensation, as well!'"
      ]
     },
     "execution_count": 172,
     "metadata": {},
     "output_type": "execute_result"
    }
   ],
   "source": [
    "input_sentence = \"im testing some misspellings — some “punctuation” — and I’d love to try English’s common contractions, too!\"\n",
    "verbosify(input_sentence)"
   ]
  },
  {
   "cell_type": "code",
   "execution_count": 180,
   "metadata": {
    "scrolled": true
   },
   "outputs": [
    {
     "name": "stdout",
     "output_type": "stream",
     "text": [
      "['im', ' ', 'testing', ' ', 'some', ' ', 'misspellings', ' ', '—', ' ', 'some', ' ', '“', 'punctuation', '”', ' ', '—', ' ', 'and', ' ', \"I'd\", ' ', 'love', ' ', 'to', ' ', 'try', ' ', 'English', \"'s\", ' ', 'common', ' ', 'contractions', ',', ' ', 'too', '!']\n"
     ]
    }
   ],
   "source": [
    "print(get_word_list(input_sentence))"
   ]
  },
  {
   "cell_type": "code",
   "execution_count": 176,
   "metadata": {},
   "outputs": [
    {
     "data": {
      "text/plain": [
       "False"
      ]
     },
     "execution_count": 176,
     "metadata": {},
     "output_type": "execute_result"
    }
   ],
   "source": [
    "'’' == \"'\""
   ]
  },
  {
   "cell_type": "code",
   "execution_count": 19,
   "metadata": {},
   "outputs": [],
   "source": [
    "import random\n",
    "args = []"
   ]
  },
  {
   "cell_type": "code",
   "execution_count": 20,
   "metadata": {},
   "outputs": [
    {
     "name": "stdout",
     "output_type": "stream",
     "text": [
      "Raze explodes out of Brazil with her big personality and big guns. With her blunt-force-trauma playstyle, she excels at flushing entrenched enemies and clearing tight spaces with a generous dose of \"boom\".\n"
     ]
    }
   ],
   "source": [
    "agents = {\n",
    "    'SAGE': 'The bastion of China, Sage creates safety for herself and her team wherever she goes. Able to revive fallen friends and stave off forceful assaults, she provides a calm center to a hellish battlefield.',\n",
    "    'SOVA': 'Born from the eternal winter of Russia’s tundra, Sova tracks, finds, and eliminates enemies with ruthless efficiency and precision. His custom bow and incredible scouting abilities ensure that even if you run, you cannot hide.',\n",
    "    'BREACH': 'The bionic Swede Breach fires powerful, targeted kinetic blasts to aggressively clear a path through enemy ground. The damage and disruption he inflicts ensures no fight is ever fair.',\n",
    "    'VIPER': 'The American Chemist, Viper deploys an array of poisonous chemical devices to control the battlefield and cripple the enemy’s vision. If the toxins don’t kill her prey, her mind games surely will.',\n",
    "    'BRIMSTONE': 'Joining from the USA, Brimstone’s orbital arsenal ensures his squad always has the advantage. His ability to deliver utility precisely and safely make him the unmatched boots-on-the-ground commander.',\n",
    "    'CYPHER': 'The Moroccan information broker, Cypher is a one-man surveillance network who keeps tabs on the enemy’s every move. No secret is safe. No maneuver goes unseen. Cypher is always watching.',\n",
    "    'JETT': 'Representing her home country of South Korea, Jett’s agile and evasive fighting style lets her take risks no one else can. She runs circles around every skirmish, cutting enemies up before they even know what hit them.',\n",
    "    'OMEN': 'A phantom of a memory, Omen hunts in the shadows. He renders enemies blind, teleports across the field, then lets paranoia take hold as his foe scrambles to uncover where he might strike next.',\n",
    "    'PHOENIX': 'Hailing from the UK, Phoenix\\'s star power shines through in his fighting style, igniting the battlefield with flash and flare. Whether he\\'s got backup or not, he\\'s rushing in to fight on his own terms.',\n",
    "    'RAZE': 'Raze explodes out of Brazil with her big personality and big guns. With her blunt-force-trauma playstyle, she excels at flushing entrenched enemies and clearing tight spaces with a generous dose of \"boom\".',\n",
    "    'REYNA': 'Forged in the heart of Mexico, Reyna dominates single combat, popping off with each kill she scores. Her capability is only limited by her raw skill, making her sharply dependent on performance.',\n",
    "    'KILLJOY': 'The genius of Germany, Killjoy secures and defends key battlefield positions with a collection of traps, turrets, and mines. Each invention is primed to punish any assailant too dumb to back down.'\n",
    "}\n",
    "\n",
    "if not args or args[0].upper() not in agents: agent = random.choice(list(agents.values()))\n",
    "else: agent = agents[args[0].upper()]\n",
    "print(agent)"
   ]
  },
  {
   "cell_type": "code",
   "execution_count": null,
   "metadata": {},
   "outputs": [],
   "source": []
  }
 ],
 "metadata": {
  "kernelspec": {
   "display_name": "Python 3",
   "language": "python",
   "name": "python3"
  },
  "language_info": {
   "codemirror_mode": {
    "name": "ipython",
    "version": 3
   },
   "file_extension": ".py",
   "mimetype": "text/x-python",
   "name": "python",
   "nbconvert_exporter": "python",
   "pygments_lexer": "ipython3",
   "version": "3.7.4"
  }
 },
 "nbformat": 4,
 "nbformat_minor": 2
}
