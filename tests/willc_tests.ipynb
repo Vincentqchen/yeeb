{
 "cells": [
  {
   "cell_type": "markdown",
   "metadata": {},
   "source": [
    "# 072520 Cumber tests"
   ]
  },
  {
   "cell_type": "code",
   "execution_count": 85,
   "metadata": {},
   "outputs": [],
   "source": [
    "import cv2\n",
    "import numpy as np\n",
    "import requests\n",
    "\n",
    "from io import BytesIO\n",
    "from PIL import Image\n",
    "import matplotlib.pyplot as plt"
   ]
  },
  {
   "cell_type": "code",
   "execution_count": 148,
   "metadata": {},
   "outputs": [],
   "source": [
    "def _cumberify(f):\n",
    "    img = cv2.imdecode(np.frombuffer(f.read(), np.uint8), 1)\n",
    "    hsv = cv2.cvtColor(img, cv2.COLOR_BGR2HSV) # convert to hsv colorspace because we get better accuracy?\n",
    "    lower_green = np.array([25,50,50])\n",
    "    upper_green = np.array([80,255,255]) # took too damn long to find these values\n",
    "    mask = cv2.inRange(hsv, lower_green, upper_green) # create mask for all greens and yellows\n",
    "    mask = mask/255\n",
    "    mask = mask.astype(np.bool)\n",
    "    \n",
    "    cumbered = np.argwhere(mask) # get idxs of green pixels\n",
    "    \n",
    "    # get rectangle coords\n",
    "    start = (cumbered[0][1], cumbered[0][0])\n",
    "    end = (cumbered[round(len(cumbered)*0.5)][1], cumbered[round(len(cumbered)*0.5)][0])\n",
    "    width = end[0] - start[0]\n",
    "    length = end[1] - start[1]\n",
    "    \n",
    "    # draw a rectangle around part of the cucumber (20% looks too small in most cases)\n",
    "    cv2.rectangle(img, start, end, (0,0,0), -1)\n",
    "    \n",
    "    # get censored coords\n",
    "    C_OFF = 0.8\n",
    "    censored_start = (start[0] + int((width-width*C_OFF)/2), start[1] + int((length-length*C_OFF)/2))\n",
    "    \n",
    "    # put censored image on\n",
    "    img_PIL = Image.fromarray(img)\n",
    "    img_PIL.show()\n",
    "    censored = Image.open('../images/censored.png')\n",
    "    img_PIL.paste(censored.resize((int(width*C_OFF),int(length*C_OFF))), censored_start)\n",
    "#     img_PIL.show()\n",
    "    \n",
    "#     img = cv2.addWeighted(img, 0.4, censored, 0.1, 0)\n",
    "\n",
    "#     _, buffer = cv2.imencode(\".jpg\", img)\n",
    "    \n",
    "    return img"
   ]
  },
  {
   "cell_type": "code",
   "execution_count": 149,
   "metadata": {
    "scrolled": false
   },
   "outputs": [],
   "source": [
    "f = open('test2.jpeg', 'rb')\n",
    "modified_cumber = _cumberify(f)\n",
    "\n",
    "img = Image.fromarray(modified_cumber)\n",
    "# img.show()"
   ]
  },
  {
   "cell_type": "code",
   "execution_count": 135,
   "metadata": {},
   "outputs": [
    {
     "data": {
      "text/plain": [
       "(1, 2, 1, 2)"
      ]
     },
     "execution_count": 135,
     "metadata": {},
     "output_type": "execute_result"
    }
   ],
   "source": [
    "(1,2)*2"
   ]
  },
  {
   "cell_type": "markdown",
   "metadata": {},
   "source": [
    "# 072620 Verbosify Tests"
   ]
  },
  {
   "cell_type": "code",
   "execution_count": 384,
   "metadata": {},
   "outputs": [],
   "source": [
    "import random\n",
    "import re\n",
    "\n",
    "from nltk import pos_tag\n",
    "from nltk.corpus import wordnet"
   ]
  },
  {
   "cell_type": "code",
   "execution_count": 385,
   "metadata": {},
   "outputs": [
    {
     "name": "stdout",
     "output_type": "stream",
     "text": [
      "original: you think we will achieve this win, brothers?\n",
      "verbosified: you conceive we volition accomplish this winnings, buddy?\n"
     ]
    }
   ],
   "source": [
    "input_sentence = 'you think we will achieve this win, brothers?'\n",
    "new_sentence = ''\n",
    "\n",
    "# go through every word in sentence\n",
    "for word in re.findall(r\"\\w+|[^\\w\\s]\", input_sentence):\n",
    "    # punctuation\n",
    "    if re.match(r\"[^\\w\\s]\", word):\n",
    "        new_sentence += word\n",
    "        continue\n",
    "    \n",
    "    # look for synonym until we find unique one\n",
    "    while True:\n",
    "        synsets = wordnet.synsets(word)\n",
    "\n",
    "        # no synonyms\n",
    "        if not synsets:\n",
    "            new_sentence += ' ' + word\n",
    "            break\n",
    "            \n",
    "        # choose random synonym for random synset\n",
    "        synonym = random.choice(random.choice(synsets).lemmas()).name()\n",
    "        if synonym.lower() not in word.lower():\n",
    "            new_sentence += ' ' + synonym\n",
    "            break\n",
    "\n",
    "\n",
    "print('original:', input_sentence)\n",
    "print('verbosified:', new_sentence[1:])"
   ]
  },
  {
   "cell_type": "markdown",
   "metadata": {},
   "source": [
    "## Parts of Speech exploration"
   ]
  },
  {
   "cell_type": "code",
   "execution_count": 102,
   "metadata": {},
   "outputs": [],
   "source": [
    "# https://www.ling.upenn.edu/courses/Fall_2003/ling001/penn_treebank_pos.html\n",
    "# or run: `nltk.help.upenn_tagset()`\n",
    "all_tags = ['CC', 'CD', 'DT', 'EX', 'FW', 'IN', 'JJ', 'JJR', 'JJS', 'LS', 'MD', 'NN', 'NNS', 'NNP', 'NNPS',\n",
    "            'PDT', 'POS', 'PRP', 'PRP$', 'RB', 'RBR', 'RBS', 'RP', 'SYM', 'TO', 'UH',\n",
    "            'VB', 'VBD', 'VBG', 'VBN', 'VBP', 'VBZ', 'WDT', 'WP', 'WP$', 'WRB']\n",
    "\n",
    "# https://stackoverflow.com/questions/15586721/wordnet-lemmatization-and-pos-tagging-in-python\n",
    "# https://linguistics.stackexchange.com/questions/6508/which-part-of-speech-are-s-and-r-in-wordnet\n",
    "def get_wordnet_pos(treebank_tag):\n",
    "    if treebank_tag.startswith('J'): return 'as'\n",
    "    elif treebank_tag.startswith('V'): return 'v'\n",
    "    elif treebank_tag.startswith('N'): return 'n'\n",
    "    elif treebank_tag.startswith('R'): return 'r'\n",
    "    else: return ''"
   ]
  },
  {
   "cell_type": "code",
   "execution_count": 4,
   "metadata": {},
   "outputs": [],
   "source": [
    "def print_syns(word):\n",
    "    if not wordnet.synsets(word):\n",
    "        print('no synonyms found')\n",
    "        return\n",
    "\n",
    "    for syn in wordnet.synsets(word):\n",
    "        print(syn.name() + ':')\n",
    "        for lemma in syn.lemmas():\n",
    "            print(lemma)\n",
    "\n",
    "        print()"
   ]
  },
  {
   "cell_type": "code",
   "execution_count": 5,
   "metadata": {
    "scrolled": true
   },
   "outputs": [
    {
     "name": "stdout",
     "output_type": "stream",
     "text": [
      "parts of speech: [('hop', 'NN'), ('in', 'IN'), ('the', 'DT'), ('voice', 'NN'), ('channel', 'NN'), ('and', 'CC'), ('find', 'VB'), ('out', 'RP'), ('for', 'IN'), ('yourself', 'PRP')]\n",
      "\n",
      "parts of speech: [('hop', 'NN'), ('in', 'IN'), ('the', 'DT'), ('voice', 'NN'), ('channel', 'NN'), ('and', 'CC'), ('find_out', 'NN'), ('for', 'IN'), ('yourself', 'NN'), ('!', '.')]\n"
     ]
    }
   ],
   "source": [
    "tokenized_sentence = re.findall(r\"\\w+|[^\\w\\s]\", 'hop in the voice channel and find out for yourself')\n",
    "print('parts of speech:', nltk.pos_tag(tokenized_sentence))\n",
    "\n",
    "print()\n",
    "\n",
    "tokenized_sentence = ['hop', 'in', 'the', 'voice', 'channel', 'and', 'find_out', 'for', 'yourself', '!']\n",
    "print('parts of speech:', nltk.pos_tag(tokenized_sentence))"
   ]
  },
  {
   "cell_type": "code",
   "execution_count": 86,
   "metadata": {},
   "outputs": [
    {
     "data": {
      "text/plain": [
       "[Lemma('ugly.a.01.ugly')]"
      ]
     },
     "execution_count": 86,
     "metadata": {},
     "output_type": "execute_result"
    }
   ],
   "source": [
    "wordnet.synset('beautiful.a.01').lemmas()[0].antonyms()"
   ]
  },
  {
   "cell_type": "markdown",
   "metadata": {},
   "source": [
    "## Test parts of speech"
   ]
  },
  {
   "cell_type": "code",
   "execution_count": 386,
   "metadata": {},
   "outputs": [],
   "source": [
    "whitelist = {'a/DT': ['an', 'the'],\n",
    "             'an/DT': ['a', 'the'],\n",
    "             'the/DT': ['a', 'an'],\n",
    "             'I/PRP': ['ur boy', 'me, myself and I', 'yours truly'],\n",
    "             'me/PRP': 'I/PRP',\n",
    "             'you/PRP': ['thou', 'thoust'],\n",
    "             'will/MD': ['shall', 'shalt']}\n",
    "\n",
    "\n",
    "def verbosify2(input_sentence, num_tries = 30):\n",
    "    word_list = []\n",
    "\n",
    "    # go through every word    \n",
    "    for word, pos in pos_tag(re.findall(r\"\\w+|[^\\w\\s]\", input_sentence)):\n",
    "        # punctuation, whitelist, or normal word\n",
    "        if re.match(r\"[^\\w\\s]\", word): word_list.append(word)\n",
    "        elif word+'/'+pos in whitelist: word_list.append(get_whitelist_synonym(word, pos))\n",
    "        else: word_list.append(get_synonym(word, get_wordnet_pos(pos)))\n",
    "\n",
    "    return join_sentence(word_list)\n",
    "\n",
    "\n",
    "def get_synonym(word, pos):\n",
    "    synsets = wordnet.synsets(word)\n",
    "    synonyms = []\n",
    "\n",
    "    # loop through all synsets\n",
    "    for synset in synsets:\n",
    "        # don't check synset if wrong part of speech\n",
    "        if synset.name().split('.')[1] not in pos: continue\n",
    "\n",
    "        # loop through each synonym\n",
    "        for synonym in synset.lemmas():\n",
    "            synonym = synonym.name()\n",
    "            if synonym != word and synonym not in synonyms: synonyms.append(synonym)\n",
    "    \n",
    "    # no unique synonyms?\n",
    "    if not synsets or not synonyms: return word\n",
    "    # otherwise, choose random synonym\n",
    "    return random.choice(synonyms)\n",
    "\n",
    "def get_whitelist_synonym(word, pos):\n",
    "    synonyms = whitelist[word+'/'+pos]\n",
    "    if isinstance(synonyms, list): return random.choice(synonyms + [word])\n",
    "    else: return random.choice(whitelist[synonyms] + [word]) # reference to another entry\n",
    "    \n",
    "\n",
    "def join_sentence(word_list):\n",
    "    new_sentence = ''\n",
    "    \n",
    "    for word in word_list:\n",
    "        if re.match(r\"[^\\w\\s]\", word): new_sentence += word\n",
    "        else: new_sentence += ' ' + word.replace('_', ' ')\n",
    "            \n",
    "    return new_sentence[1:]"
   ]
  },
  {
   "cell_type": "code",
   "execution_count": 390,
   "metadata": {},
   "outputs": [
    {
     "name": "stdout",
     "output_type": "stream",
     "text": [
      "me, myself and I would care the ground beef misrepresent precisely for yours truly\n",
      "I would care a burger wangle but for me\n",
      "ur boy would wish an beefburger ready precisely for me, myself and I\n",
      "I would care the ground beef falsify but for ur boy\n",
      "me, myself and I would care a burger fix barely for me, myself and I\n",
      "me, myself and I would care the ground beef cook hardly for ur boy\n",
      "yours truly would care a ground beef make scarcely for ur boy\n",
      "yours truly would care the ground beef fudge exactly for me\n",
      "yours truly would care an burger misrepresent simply for ur boy\n",
      "ur boy would wish an ground beef fudge precisely for yours truly\n",
      "yours truly would care an beefburger falsify simply for me\n",
      "yours truly would care a beefburger manipulate just now for ur boy\n",
      "me, myself and I would care a ground beef wangle just now for me\n",
      "ur boy would care the beefburger fix merely for me\n",
      "I would wish an beefburger ready hardly for ur boy\n",
      "I would care an beefburger cook merely for me, myself and I\n",
      "ur boy would care the ground beef ready merely for ur boy\n",
      "I would wish an burger fudge merely for me, myself and I\n",
      "me, myself and I would wish an ground beef cook precisely for me\n",
      "I would care the beefburger cook hardly for yours truly\n"
     ]
    }
   ],
   "source": [
    "sim = 20\n",
    "\n",
    "input_sentence = 'I would like a hamburger cooked just for me'\n",
    "for i in range(sim):\n",
    "    print(verbosify2(input_sentence))"
   ]
  },
  {
   "cell_type": "code",
   "execution_count": 392,
   "metadata": {
    "scrolled": true
   },
   "outputs": [
    {
     "name": "stderr",
     "output_type": "stream",
     "text": [
      "[nltk_data] Downloading package averaged_perceptron_tagger to\n",
      "[nltk_data]     /Users/william/nltk_data...\n",
      "[nltk_data]   Package averaged_perceptron_tagger is already up-to-\n",
      "[nltk_data]       date!\n"
     ]
    },
    {
     "data": {
      "text/plain": [
       "True"
      ]
     },
     "execution_count": 392,
     "metadata": {},
     "output_type": "execute_result"
    }
   ],
   "source": [
    "nltk.download('averaged_perceptron_tagger')"
   ]
  },
  {
   "cell_type": "code",
   "execution_count": 380,
   "metadata": {},
   "outputs": [],
   "source": [
    "args = 'I would like a hamburger cooked just for me'.split()"
   ]
  },
  {
   "cell_type": "code",
   "execution_count": 383,
   "metadata": {},
   "outputs": [
    {
     "data": {
      "text/plain": [
       "'I would like a hamburger cooked just for me'"
      ]
     },
     "execution_count": 383,
     "metadata": {},
     "output_type": "execute_result"
    }
   ],
   "source": [
    "' '.join(args)"
   ]
  },
  {
   "cell_type": "markdown",
   "metadata": {},
   "source": [
    "# 080320 Fixing verbosify spacing"
   ]
  },
  {
   "cell_type": "code",
   "execution_count": 124,
   "metadata": {},
   "outputs": [],
   "source": [
    "import random\n",
    "import re\n",
    "from nltk.corpus import wordnet\n",
    "from nltk import pos_tag\n",
    "\n",
    "# -- Helper functions for verbosify -- #\n",
    "WHITELIST = {'a/DT': ['an', 'the'],\n",
    "                'an/DT': ['a', 'the'],\n",
    "                'the/DT': ['a', 'an'],\n",
    "                'I/PRP': ['ur boy', 'me, myself and I', 'yours truly'],\n",
    "                'me/PRP': 'I/PRP',\n",
    "                'you/PRP': ['thou', 'thoust'],\n",
    "                'will/MD': ['shall', 'shalt']}\n",
    "\n",
    "def _get_synonym(word, pos):\n",
    "    synsets = wordnet.synsets(word)\n",
    "    synonyms = []\n",
    "\n",
    "    # loop through all synsets\n",
    "    for synset in synsets:\n",
    "        # don't check synset if wrong part of speech\n",
    "        if synset.name().split('.')[1] not in pos: continue\n",
    "\n",
    "        # loop through each synonym\n",
    "        for synonym in synset.lemmas():\n",
    "            synonym = synonym.name()\n",
    "            if synonym != word and synonym not in synonyms: synonyms.append(synonym)\n",
    "    \n",
    "    # no unique synonyms?\n",
    "    if not synsets or not synonyms: return word\n",
    "    # otherwise, choose random synonym\n",
    "    return random.choice(synonyms).replace('_', ' ')\n",
    "\n",
    "def _get_whitelist_synonym(word, pos):\n",
    "    synonyms = WHITELIST[word+'/'+pos]\n",
    "    if isinstance(synonyms, list): return random.choice(synonyms + [word])\n",
    "    else: return random.choice(WHITELIST[synonyms] + [word]) # reference to another entry\n",
    "\n",
    "def _get_wordnet_pos(treebank_tag):\n",
    "    if treebank_tag.startswith('J'): return 'as'\n",
    "    elif treebank_tag.startswith('V'): return 'v'\n",
    "    elif treebank_tag.startswith('N'): return 'n'\n",
    "    elif treebank_tag.startswith('R'): return 'r'\n",
    "    else: return ''\n",
    "\n",
    "\n",
    "# -- main verbosify function -- #\n",
    "def _verbosify(input_sentence):\n",
    "    new_sentence = ''\n",
    "\n",
    "    # go through every word    \n",
    "    for word, pos in pos_tag([v for v in re.split('(\\W)', input_sentence) if v != '']):\n",
    "        # punctuation/whitespace, whitelist, or normal word\n",
    "        if re.match(r'[^\\w]', word): new_sentence += word\n",
    "        elif word.upper() == 'I': new_sentence += _get_whitelist_synonym('I', 'PRP')\n",
    "        elif word+'/'+pos in WHITELIST: new_sentence += _get_whitelist_synonym(word, pos)\n",
    "        else: new_sentence += _get_synonym(word, _get_wordnet_pos(pos))\n",
    "\n",
    "    # return the sentence\n",
    "    return new_sentence"
   ]
  },
  {
   "cell_type": "code",
   "execution_count": 125,
   "metadata": {},
   "outputs": [
    {
     "name": "stdout",
     "output_type": "stream",
     "text": [
      "me, myself and I like Malva sylvestris\n"
     ]
    }
   ],
   "source": [
    "input_sentence = 'Raze explodes out of Brazil with her big personality and big guns.\\nWith her blunt-force-trauma playstyle, she excels at flushing entrenched enemies and clearing tight spaces with a generous dose of \"boom\".'\n",
    "input_sentence = \"i like cheese\"\n",
    "\n",
    "print(_verbosify(input_sentence))"
   ]
  },
  {
   "cell_type": "code",
   "execution_count": null,
   "metadata": {},
   "outputs": [],
   "source": []
  },
  {
   "cell_type": "code",
   "execution_count": 78,
   "metadata": {
    "scrolled": false
   },
   "outputs": [
    {
     "name": "stdout",
     "output_type": "stream",
     "text": [
      "Raze\n",
      "[yuh] --\n",
      "explodes\n",
      "[yuh] --\n",
      "out\n",
      "[yuh] --\n",
      "of\n",
      "[yuh] --\n",
      "Brazil\n",
      "[yuh] --\n",
      "with\n",
      "[yuh] --\n",
      "her\n",
      "[yuh] --\n",
      "big\n",
      "[yuh] --\n",
      "personality\n",
      "[yuh] --\n",
      "and\n",
      "[yuh] --\n",
      "big\n",
      "[yuh] --\n",
      "guns\n",
      "[yuh] .\n",
      "_\n",
      "[yuh] newline\n",
      "With\n",
      "[yuh] --\n",
      "her\n",
      "[yuh] --\n",
      "blunt\n",
      "[yuh] -\n",
      "force\n",
      "[yuh] -\n",
      "trauma\n",
      "[yuh] --\n",
      "playstyle\n",
      "[yuh] ,\n",
      "_\n",
      "[yuh] --\n",
      "she\n",
      "[yuh] --\n",
      "excels\n",
      "[yuh] --\n",
      "at\n",
      "[yuh] --\n",
      "flushing\n",
      "[yuh] --\n",
      "entrenched\n",
      "[yuh] --\n",
      "enemies\n",
      "[yuh] --\n",
      "and\n",
      "[yuh] --\n",
      "clearing\n",
      "[yuh] --\n",
      "tight\n",
      "[yuh] --\n",
      "spaces\n",
      "[yuh] --\n",
      "with\n",
      "[yuh] --\n",
      "a\n",
      "[yuh] --\n",
      "generous\n",
      "[yuh] --\n",
      "dose\n",
      "[yuh] --\n",
      "of\n",
      "[yuh] --\n",
      "_\n",
      "[yuh] \"\n",
      "boom\n",
      "[yuh] \"\n",
      "_\n",
      "[yuh] .\n",
      "_\n"
     ]
    }
   ],
   "source": [
    "for thing in re.split('(\\W)', input_sentence):\n",
    "    if re.match(r\"[^\\w]\", thing): print('[yuh] ', end='')\n",
    "    \n",
    "    if thing is '': print('_', end='\\n')\n",
    "    elif thing is ' ': print('--', end='\\n')\n",
    "    elif thing is '\\n': print('newline', end='\\n')\n",
    "    else: print(thing, end='\\n')"
   ]
  },
  {
   "cell_type": "code",
   "execution_count": 31,
   "metadata": {},
   "outputs": [
    {
     "name": "stdout",
     "output_type": "stream",
     "text": [
      "['yo', ' ', '', '\"', 'wassup', '-', 'hello', '-', 'f', '\"', '', ' ', 'yo']\n"
     ]
    }
   ],
   "source": [
    "print(re.split('(\\W)', 'yo \"wassup-hello-f\" yo'))"
   ]
  },
  {
   "cell_type": "code",
   "execution_count": null,
   "metadata": {},
   "outputs": [],
   "source": []
  },
  {
   "cell_type": "markdown",
   "metadata": {},
   "source": [
    "# 080320 Fix progress"
   ]
  },
  {
   "cell_type": "code",
   "execution_count": 18,
   "metadata": {},
   "outputs": [],
   "source": [
    "import random\n",
    "import re\n",
    "from nltk.corpus import wordnet\n",
    "from nltk import pos_tag\n",
    "import time"
   ]
  },
  {
   "cell_type": "code",
   "execution_count": 19,
   "metadata": {},
   "outputs": [],
   "source": [
    "# -- Helper functions for verbosify -- #\n",
    "WHITELIST = {'a/DT': ['an', 'the'],\n",
    "                'an/DT': ['a', 'the'],\n",
    "                'the/DT': ['a', 'an'],\n",
    "                'I/PRP': ['ur boy', 'me, myself and I', 'yours truly'],\n",
    "                'me/PRP': 'I/PRP',\n",
    "                'you/PRP': ['thou', 'thoust'],\n",
    "                'will/MD': ['shall', 'shalt']}\n",
    "\n",
    "def get_synonym(word, pos):\n",
    "    synsets = wordnet.synsets(word)\n",
    "    synonyms = []\n",
    "\n",
    "    # loop through all synsets\n",
    "    for synset in synsets:\n",
    "        # don't check synset if wrong part of speech\n",
    "        if synset.name().split('.')[1] not in pos: continue\n",
    "\n",
    "        # loop through each synonym\n",
    "        for synonym in synset.lemmas():\n",
    "            synonym = synonym.name()\n",
    "            if synonym != word and synonym not in synonyms: synonyms.append(synonym)\n",
    "    \n",
    "    # no unique synonyms?\n",
    "    if not synsets or not synonyms: return word\n",
    "    # otherwise, choose random synonym\n",
    "    return random.choice(synonyms).replace('_', ' ')\n",
    "\n",
    "def get_whitelist_synonym(word, pos):\n",
    "    synonyms = WHITELIST[word+'/'+pos]\n",
    "    if isinstance(synonyms, list): return random.choice(synonyms + [word])\n",
    "    else: return random.choice(WHITELIST[synonyms] + [word]) # reference to another entry\n",
    "\n",
    "def get_wordnet_pos(treebank_tag):\n",
    "    if treebank_tag.startswith('J'): return 'as'\n",
    "    elif treebank_tag.startswith('V'): return 'v'\n",
    "    elif treebank_tag.startswith('N'): return 'n'\n",
    "    elif treebank_tag.startswith('R'): return 'r'\n",
    "    else: return ''\n",
    "\n",
    "\n",
    "# -- main verbosify function -- #\n",
    "def verbosify(input_sentence):\n",
    "    new_sentence = ''\n",
    "\n",
    "    # go through every word    \n",
    "    for word, pos in pos_tag([v for v in re.split('(\\W)', input_sentence) if v != '']):\n",
    "        # punctuation/whitespace, the word 'I', whitelist, or normal word\n",
    "        if re.match(r'[^\\w]', word): new_sentence += word\n",
    "        elif word.upper() == 'I': new_sentence += get_whitelist_synonym('I', 'PRP')\n",
    "        elif word+'/'+pos in WHITELIST: new_sentence += get_whitelist_synonym(word, pos)\n",
    "        else: new_sentence += get_synonym(word, get_wordnet_pos(pos))\n",
    "\n",
    "    # return the sentence\n",
    "    return new_sentence"
   ]
  },
  {
   "cell_type": "markdown",
   "metadata": {},
   "source": [
    "To change back:\n",
    "- verbosify -> verbosify.verbosify\n",
    "- print -> await ctx.send\n",
    "- print(EDIT) -> await msg.edit(content=)"
   ]
  },
  {
   "cell_type": "code",
   "execution_count": 35,
   "metadata": {},
   "outputs": [],
   "source": [
    "def full_verbosify(input_sentence):\n",
    "    # get spot to break up message\n",
    "    def get_breakpoint(msg):\n",
    "        i = 2000\n",
    "        while i > 0 and msg[i] != ' ': i -= 1\n",
    "        \n",
    "        return 2000 if i is 0 else i\n",
    "        \n",
    "    def long_output(msg, verbosified):\n",
    "        print('long ooutput')\n",
    "        if len(verbosified) <= 2000:\n",
    "            print(verbosified)\n",
    "            return\n",
    "        \n",
    "        # keep looping until message is finished printing\n",
    "        bp = get_breakpoint(verbosified)\n",
    "        print(verbosified[:bp])\n",
    "        long_output(msg, verbosified[bp+1:])\n",
    "    \n",
    "    num_times = 1\n",
    "    # Detect num_times argument. gotta check for positive and negative numbers\n",
    "    if input_sentence.split()[0].isdigit() or input_sentence.split()[0][1:].isdigit():\n",
    "        num_times = int(input_sentence.split()[0])\n",
    "\n",
    "        # bruh don't try to break it bruh\n",
    "        if num_times < 0 or num_times > 500:\n",
    "            print('bruh')\n",
    "            return\n",
    "\n",
    "        input_sentence = ' '.join(input_sentence.split()[1:])\n",
    "\n",
    "    # edge cases\n",
    "    if num_times is 0:\n",
    "        print(input_sentence)\n",
    "        return\n",
    "    elif num_times is 1:\n",
    "        print(verbosify(input_sentence))\n",
    "        return\n",
    "\n",
    "    # Run verbosify num_times number of times\n",
    "    to_print = [round(num_times*(i/5)) for i in range(1,5)] # when to print progress\n",
    "    max_char_count = False\n",
    "\n",
    "    verbosified = verbosify(input_sentence)\n",
    "    msg = print('`[1]` ' + verbosified)\n",
    "    \n",
    "    for i in range(2, num_times):\n",
    "        new_verbosified = verbosify(verbosified)\n",
    "        \n",
    "        if len(new_verbosified) > 20000: break # would go past 10 messages...\n",
    "        elif len(new_verbosified) > 1990 and not max_char_count:\n",
    "            time.sleep(1)\n",
    "            print('EDIT\\t`[...]` ' + verbosified)\n",
    "            max_char_count = True\n",
    "        else:\n",
    "            verbosified = new_verbosified\n",
    "\n",
    "            if i in to_print and len(verbosified) < 1990:\n",
    "                time.sleep(1)\n",
    "                print('EDIT\\t`[{}]` {}'.format(i, verbosified))\n",
    "\n",
    "    # Final output\n",
    "    time.sleep(1)\n",
    "    verbosified = verbosify(verbosified) # one last time\n",
    "    \n",
    "    if len(verbosified) <= 2000: print('EDIT\\t', verbosified)\n",
    "    else:\n",
    "        bp = get_breakpoint(verbosified)\n",
    "        print('EDIT\\t', verbosified[:bp]) # do the first one\n",
    "        long_output(msg, verbosified[bp+1:])"
   ]
  },
  {
   "cell_type": "code",
   "execution_count": 36,
   "metadata": {
    "scrolled": false
   },
   "outputs": [
    {
     "name": "stdout",
     "output_type": "stream",
     "text": [
      "`[1]` Raze detonate away of Federative Republic of Brazil with her gravid personality and freehanded hitman. Raze burst away of Brasil with her self-aggrandizing personality and bad triggerman.\n",
      "EDIT\t`[10]` Raze detonate Forth River river river river river river river of Federative plane ramification of proboscis bland of affaire of brazil with her gravid personality and freehanded engage stumble man airstream for hire. Raze wiz notch-upwards by of Federative absolute legal long prison term rule of Federative republic of Brasil nut with her self-embellish personality and invent customs tarnish-wakeless heavy weapon memory shop class.\n",
      "EDIT\t`[20]` Raze detonate Forth River river river river river river river river river river river river river river river river river of Federative woodworking represent after slur-witted motorcar rowlock of luggage compartment bland of affaire of brazil with her gravid personality and freehanded engage stumble homosexual field of battle of laurels dampen for hire. Raze wiz notch-upwards by of Federative societal social rank and charge out localize foresighted prison house menage dramatics theater foretoken champion student residence Asaph residence circumstances on artwork patronise nub mavin foretoken sliding board by particular normal of Federative republic of Federative nation section segment of Federative republic of Federative republic of Federative republic of Federative state of Brasil crank ballock with her self-embellish personality and invent figure donnish school term estate tarnish-wakeless upper-grammatical suit first off of all by squad alphabetic portion constituent of a for the first time pace rationale'haphazardness artillery unit musical arrangement social societal social edifice occlusion of measurement of meter unscathed store terminal descend in concert fibril.\n",
      "EDIT\t`[...]` Raze detonate Forth River river river river river river river river river river river river river river river river river river river river river of Federative woodworking represent after dip-witted car leg of luggage compartment bland of affaire of brazil with her gravid personality and freehanded engage stumble homosexual cause nation of fighting of Stan Chester Alan President Arthur H G. John Rowlands Chief Executive President Jefferson Stan Arthur Stanley Jefferson Laurel slipstream for hire. Raze wiz notch-upwards by of Federative societal social societal condition and purge Forth River place foresighted prison house planetary house business organization house globular line business firm creation-blanket dramatic art business firm theatre of trading operations dramatic art foretoken star scholar residence hall scar of the zodiac Asaph mug of an zodiac family setting of usage on esthetical production patronise nub whirr foretoken slither tour dine mesa by odd normal of Federative republic of Federative substantial-subdivision societal system of rules bland arm dough of Federative republic of Federative republic of Federative republic of Federative subdivision of country of social occasion of Federative republic of Federative commonwealth of brazil nut lusus naturae gimcrack upwards ball with her self-embellish personality and invent flesh donnish schooltime twenty-four hours daylight oddment domain of a acres tarnish-wakeless upper-substantially-constitute casing of garb of gap apparel frontmost of all Forth River of all by squad alphabetic lot ingredient of the for a foremost clause of trust rate precept'haphazardness clayey artillery grammatical construction pulley-block social societal unit of measurement of measuring melodic brass social societal social edifice caper formula of measurement of cadence Nathan Edward Everett Hale warehousing store descend in concert filum.\n",
      "EDIT\t Raze detonate Forth River river river river river river river river river river river river river river river river river river river river river river river river river river river river river river river river river river of Federative woodworking represent after gratis origin-witted railway line personal line of credit racecourse contrast of conclude line in gauge ordination of convention musical lot idiomatical reflexion promulgation the melodious parenthood on graze of numeral overlap of downslope line of descent fulminate railway system course melodic argument phone rest convey scattering canal make-up pass on line of work epithelial epithelial duct melodic melodic melodic melodic idiomatic conceptuality dodge automobile wooden stage of baggage compartment bland of affaire of brazil with her gravid personality and freehanded engage stumble homosexual apparent social crapper res publica of vigour of Stan Chester Alan United debt functionary schoolbook single American-Indian language file cabinet United United noesis al-Qaida sectionalisation of bole bland United scratch of unattackable-weapon system societal social structure suave main decision maker contend theatre theatre director St. Dino St. Apostelic forefather St. Paul the Apostle of tarsus of tarsus a Apostelic forefather Crocetti St. doyen Steve James Dean Saint James ur boy sixth top executive Lord George Gordon Byron of Rochdale dean Dino saint Paul the Apostle Crocetti Dino Apostelic firm arse forefather Apostelic angle swindle upwards authorship of a pagan Crocetti Virgo the Virgin the virgin an virgin an Virgin the Virgo the Virgin an Virgo an Virgin an Virgo the Virgin consecrate Virgo the Virgin an Virgo the Virgin Dino apostle of the pleasure seeker a apostle Crocetti Steve James IV Sixth Baron Byron of Rochdale James Dean St. Dino Saint Paul Crocetti The Virgo the Virgin an Virgo the Virgin the Virgin a Virgo St. Dino Saul Crocetti St. St. Dino nonesuch Saint Paul Crocetti Madonna Louise\n",
      "long ooutput\n",
      "Ciccone Madonna Dean Martin The Virgo the Virgin Dino Paul Crocetti Steve martin Dino Paul Crocetti Martin Luther king Junior. vitamin chemical substance centre sum substance imply measuring of money meat basal flaky vitamin chemical substance grouping mathematical group B-complex vitamin complex-complex vitamin coordination chemical substance gist bosom and someone substance essence nitty-grainy os center and individual chemical substance subject matter substance spirit dependant essence chemical substance subject matter centre watch nitty-mealy chemical substance marrow content nub chemical substance pith signification chemical substance sum chemical substance chemical compound. vitamin numerical extremist atomic actualization emersion 5. mathematical product valet de chambre's gentleman's gentleman de chambre of social societal substance abuse Chester flakey vitamin antiophthalmic holdfast. Chester ampere. descent-sibylline cardinal-spicy rearward Chester extremist an. Chester antiophthalmic constituent. Chester deoxyadenosine monophosphate. Chester Alan Chester Alan St. Martin Martin Luther top executive Junior. queen Chester Alan Arthur enthalpy gravitational unremitting beat. St. wash-aid hand waste pipe rural orbit an swain nonsuch master Francis Robert Scott keystone an apostle Rowlands tribal tribal genus genus genus genus genus genus genus Bos finality Creator United debilitate inbuilt societal system of rules bland of protrude Forth River river river river United United United United United state portion of res publica of matter severance up of dead body bland planer slice of fiscal duty affix incision of partition of United detach-for-all planing machine partition of terra firma headsman finding Creator of the United rural commonwealth chair of a United zona of establish-and-use up section of surface area vulgar roselle British shilling bob common oxalis British hoi polloi shill bobtail shilling shill bob Bob Dylan holy place blank space blank\n",
      "long ooutput\n",
      "topographic arena top executive director share pointedness belonging topographic electric distributer per centum catch picky-by-relic business firm-subdivision physical travail position away Jessye Greg Angelo Correr twelve raptus tight one a apostle Jessye Jessye Angelo Correr Saint John the Apostle Jessye Norman Mattoon chief honcho Chief Joseph William H promote. Max Karl Ernst Ludwig Planck'sulfur incessant kilobyte. atomic number 1 k. Patrick Henry Martyn Henry Martyn Robert St. St. Patrick St. Patrick henry footstep. St. Patrick William Henry chiliad. Joseph Henry mebibyte. Henry Martyn Robert Traill Spence Abbott cholecalciferol. H. Norman Mattoon Thomas Prince Edward Saint Lawrence Abbott sir Norman Thomas Saint Lawrence Amy Robert Lowell Jnr. St. bob bobsled Bob Dylan Marlais Set Dylan Marlais Thomas an incertitude apostle the precariousness Apostelic get padre unfeigned-to-estimable facial pattern hoi polloi sheep wienerwurst loading dock adeptness old English people shepherd dog shill British people the great unwashed shill shill bob bobfloat Bob Dylan Marlais bobsleigh sorrel shill sometime English people nomenclature sheep domestic dog British shilling bob shilling Bob Dylan Marlais nonsuch Percival William St. Patrick Joseph Henry Martyn Chief Joseph Joseph Henry Martyn William Henry molar concentration. Henry M. Robert Traill Spence Abbott St. sir Norman Thomas Sir Thomas Lawrence Percival Henry Martyn Robert Robert Lowell Junior. uppercase of Mb bobtail bob bobber Bob Dylan Greg Angelo Correr can Gregory John Norman Mattoon Henry M. Robert Robert Traill Spence Lowell Jr. Bob Dylan St. Thomas a interrogation meter apostle professorship electric end chairperson President of the United States Abbott Ernest Orlando thyroxin. Es. Ernest Orlando Lawrence of Arabian peninsula Joseph Henry Martyn Patrick Henry Martyn Henry Martyn Robert Traill Spence Percival Amy Abbott Lawrence Lowell Jr. Ugo Buoncompagni lav Jessye Greg Norman Mattoon solidifying Set St.\n",
      "long ooutput\n",
      "Thomas Jonathan cony Kapital of magnolia province river interrogation bobtail Bob Dylan St. St. Thomas a dubiousness apostle Amy Henry Martyn Robert Traill Spence Amy Lowell Junior. Glenda old hickory Jessye Jessye Norman Mattoon Robert Lowell Seth Thomas a precariousness Apostelic Christian Christian church beginner of a Christian church mountain dubiousness Robert Lowell Mahalia Jackson Saint Thomas chairman president Dylan Marlais Thomas Thomas Jefferson Stan Chester adenylic colza and onslaught fervidness-backward breaker Buddhism. Billie racy idle blue devil sky yonder angel sky blue jean Moffitt Male soul deucedly genus genus Danube river plexippus top origin-crimson-spicy red-present spicy close downwards manufacturer discover okay art dramatic art of cordial process superintend twist off coach chemical formula manakin of praxis of medicative drug secret teacher Chester aggroup antiophthalmic factor. chairperson United Department of State chairman Steve St. St. Mary Martin The Virgin Louise Ciccone St. St. St. Martin virgin Virgin Mary St. Dino Paul Crocetti Madonna Dino Paul Crocetti Dino Paul Crocetti Martin Luther male soul milkweed butterfly stroke butterfly stroke stroke Chester Alan honcho administrator of a United smash Chester chemical substance radical ampere. Chester Alan Chester ampere. King Arthur lav Rowlands headman executive director of a United republic of matter cork shill shilling Brits mass multitude shill British masses the great unwashed shill ligature upwards deftness dock bob cork Bob Dylan Percival Amy Percival Abbott metric ton. ascribable nuclear numeral 99. Ernest Orlando Jacques Louis David Victor Herbert Gertrude Lawrence of Arab peninsula Amy William Henry Martyn Patrick Henry molarity. Henry M. Robert William Henry 1000. Henry Martyn Robert Traill Spence Abbott Sir Thomas Lawrence Robert Lowell Junior. St. British shill docking adeptness wharfage bob bobsled Bob Dylan Marlais curtsey British people citizenry shill bob dock Bob\n",
      "long ooutput\n",
      "Dylan Marlais bottle cork shilling bob Bob Dylan Marlais bobfloat dock Bob Dylan Marlais St. Bob Dylan Dylan Marlais Thomas a interrogatory judgment of conviction Apostelic constitute male person parent examen clock meter Percival Amy Amy Amy Amy Joseph Henry MiB. Henry Martyn Robert Percival Abbott Lawrence Lowell St. Percival Chief Joseph H megabyte. henry Martyn William Henry Martyn Henry M. Robert Traill Spence St. Patrick William Henry MB. William Henry mebibyte. Henry Martyn Robert Abbott paragon Laurentius Henry Martyn Robert Traill Spence Amy Lowell Jnr. Junior. Helen of Troy of troy of troy weight of Ilium of troy weight burthen Holman Vivien Vivien Vivien Leigh Holman Jesse James H Vivien Leigh James Henry Leigh Hunt Helen of Troy of troy of Ilium of Ilium choir Jesse ideal Lowell Jackson Thomas James Prescott Joule. Glenda capital of Mississippi St. one dubiousness Robert Lowell Seth Thomas a query Apostelic forefather antique barricade full point divinity Creator move-photograph demo offer away music res publica off conductor St. Abbott apotheosis sir uncertainty Bob Dylan Marlais doubting Thomas St. thymine. eastward. Thomas Edward Lawrence Amy St. Patrick William Henry Martyn henry yard. Henry M. Robert Patrick Henry meter. Henry M. Robert Traill Spence Percival Abbott Lawrence Lowell Junior. Cork bob dockage bob Bob Dylan cork bob bobsled Bob Dylan Marlais dock shilling Bob Dylan Robert Traill Spence Lowell Jr. Michael Jackson St. Thomas the doubtfulness apostle United part of nation of societal single-valued function chairwoman of an United physical structure suave planing machine plane section St. Chief Joseph Patrick Henry Martyn henry Martyn Henry M. Robert Traill Spence henry megabyte. Henry Martyn Robert Henry M. Robert Traill Spence Robert Traill Spence Lowell Jr. Jnr. Jnr. Greg Gregory John Norman Greg Norman Mattoon Dylan Thomas erstwhile hickory tree Tree Jessye Jessye Greg Norman St. Gregory of Nazianzen Saint John Greg Norman Abbott\n",
      "long ooutput\n",
      "Lawrence Lowell Thomas Jackson Thomas the doubting Apostle skipper executive Abbott St. David Victor Herbert Lawrence of Arabia Henry M. Robert Traill Spence Percival Lowell Junior. St. nonsuch Norman Mattoon Thomas United United States Department of State gaffer executive Bob Dylan Saint Thomas Dylan Thomas Thomas Jefferson Chester ampere. Chester Alan Chester Alan Chester angstrom societal social unit of measurement of measurement of measurement of circular. Chester Alan Chester ampere. Chester ampere. Chester vitamin a. Chester Alan Chester Alan King Arthur lav a evangelist the divinity God Almighty Rowlands fertilise bottleful bobsled freight dockage adeptness Britisher shill bottleful shilling shill wharfage Old English sheepdog shilling Bob Dylan Marlais St. nonpareil saint Saint Patrick William atomic number 1 Martyn h Bachelor of Medicine. Patrick Henry guanine. enthalpy M. henry Martyn Henry Martyn Robert Traill Spence Amy William Chief Joseph William Henry K. h megabyte. H meter. Henry M. Robert Abbott Ernest Orlando cholecalciferol. total heat. St. Lawrence Abbott apotheosis Thomas Edward Lawrence Percival Robert Lowell Jnr. sometime hickory tree Sir Herbert Beerbohm Tree Sir Herbert Beerbohm Tree tree diagram Sir master Victor Herbert sir Joseph Henry Maxmilian Max Beerbohm shoetree diagram Greg Greg ideal St. Gregory of Nazianzen yours truly me, myself and I lav Greg Jessye Greg Norman Mattoon William Patrick Henry one K. henry Martyn Joseph Henry Martyn Henry M. Robert Traill Spence Abbott nonpareil St. Lawrence Percival Percival Robert Traill Spence Lowell Jr. junior. uncertainness cork Bob Dylan Marlais Set Saint Thomas Jonathan Michael Jesse Mahalia Thomas J. Jackson Jessye Greg Gregory XVI toilet Jessye Norman Jessye Greg Gregory John Norman Mattoon Henry M. Robert Traill Spence Robert Traill Spence Lowell Jr. Junior. Percival Lowell Seth Thomas an uncertainty apostle nonesuch St. bob breast feeding feeding bottle bob Briton shill dockage bobsleigh\n",
      "long ooutput\n",
      "Bob Dylan Abbott St. St. Jacques Louis David superior Victor Herbert sir Saint Thomas Laurentius Saint Patrick Patrick Henry K. Patrick Henry Martyn Henry Martyn Robert Traill Spence Abbott sir Dylan Thomas David Herbert Lawrence Percival Percival Lowell Jr. bobsleigh shill cork Bob Dylan Abbott sir Dylan Thomas T. E. Lawrence Henry M. Robert Robert Lowell British shilling Bob Dylan Marlais Greg Norman Lowell Thomas masticate up bum Jessye Jessye nonpareil Bartolomeo Alberto Capillari I King St. lavatory the apostle Greg Gregory VII toilet Gregory John Norman Mattoon Abbott deoxythymidine monophosphate. vitamin E. D. H. Lawrence Saint Patrick henry Martyn Patrick Henry Martyn Henry Martyn Robert Amy Henry Martyn Robert Traill Spence Robert Traill Spence Lowell Jr. Junior. St. one Bob Dylan Marlais Dylan Marlais Thomas an dubiousness Apostelic Father-God Greg Hildebrand seven 16 toilet Ugo Buoncompagni lavatory an revivalist Greg Jessye Norman Mattoon curtsy British people shill bob Bob Dylan doubt Seth Thomas the uncertainty apostle an uncertainty Apostelic founder United responsibility old-timer executive director henry Martyn Henry Martyn Robert Abbott Sir Thomas Lawrence Percival Lowell St. Norman Thomas an doubt apostle chair chair St. Thomas Thomas Jefferson Chester Alan Chester Alan Chester Alan Chester vitamin antiophthalmic constituent. Chester Alan Chester Alan Chester numerical radical antiophthalmic ingredient. Chester Alan Chester Alan Chester A. Arthur St. can Rowlands chair St. St. bob Brits shill cork Bob Dylan Marlais Abbott tetraiodothyronine. due east. Ernest Orlando Lawrence Abbott Sir Thomas Lawrence Amy Lowell Michael Saint Andrew Helen Maria Fiske Hunt Jackson Abbott Ernest Orlando Lawrence Robert Lowell St. Lowell Jackson Thomas an question Apostelic forefather Amy full heating system Martyn William H 1000. H mebibyte. Henry M. Robert Abbott nonpareil Ernest Orlando Lawrence of Arabian Peninsula Amy Amy Robert Lowell Michael Joe uncertainness\n",
      "long ooutput\n",
      "Percival Percival Lowell Jesse Joe Louis Andrew Jackson Robert Lowell Thomas Jonathan Jackson Dylan Thomas watt 2d. nonsuch apotheosis Saint Andrew the Apostle St. Norman Mattoon Thomas Jonathan majuscule of Magnolia State bobsleigh dockage bob bobsled Bob Dylan Marlais St. British shill bobsleigh Bob Dylan Marlais Jessye Greg Norman Mattoon doubt Norman Mattoon Thomas prexy of an United province of an United operative section of ut United republic United United State department of land United nation chair of a United commonwealth question apotheosis Dylan Thomas a incertitude apostle chief administrator Robert Traill Spence Lowell Jr. Thomas J. Jackson doubting Thomas Chief Executive Thomas Jefferson Stan unfeigned Chester Alan Arthur John Rowlands President Jefferson laurel coronal bay bay wreath chaplet lei licit chairperson President Arthur sir H Ferdinand Joseph La Menthe Morton Henry M. Stanley chairwoman Thomas Jefferson true laurel garland leu leu laundry withdraw away for hire. Raze wiz notch-upwards by of Federative social societal social theoretical account and feed in buncombe tree trunk and upchuck upwards Forth River river river river river river river river river river river river river river military likely foresighted prison house star sign business concern business firm abode disdain business enterprise business firm battleground of mathematical surgery business organization intersection descent of consistence of workplace commercial-grade go-ahead line of work house signalise elan foretoken cooking stove worldwide commercial enterprise enterprisingness concern business firm grownup male psyche de chambre signal of a zodiac crowing mulct nontextual societal exclusive-assess social occasion reality reciprocal opponent of the zodiac noisome bodily armed service poisonous offensive activity extremist sublunar res publica commercial-grade-grade-course-graduation-manakin-microscope level-degree-alumna-nuclear act 6 fateful microscope leg-heart plosive\n",
      "long ooutput\n",
      "consonant reconcile-foretoken-flavorless paragon King John a Apostelic Father M. John the Divine Grandma Moses browning machinelike rifle roomie closure concordant personal way of verbalize audio frequency absolute frequency memorialise feat touchwood societal sept social societal well-formed building St. Leo IX St. Bruno Bruno Walter pipe fitter'randomness assistant sopor means locomotor railroad track air locomotor pulley-block auction block-genial blocking pulley-block-pulley of valuate nut-regulate statistical dispel epithelial epithelial melodic musical phrase financial reinforcement strive wrinkle of body of work of grounds away creese of field of compose composition sphere form initiatory military accountant judicature large number unrelenting-Sir Tim Elmer Elmer Reizenstein timothy ocean stat mi Bindon Elmer Reizenstein paddy playing field of procedure gymnastic knitting stitch stitch Mickey calculate control surface sphere Mick frigidness simulate esthetical public public second gear world power toe toe rubberise fusee patty melodious phrasal ready idiomatic expression microscope leg stage business concern sphere arrangement dramatic art frame upwards square block gain esthetical output of trading numerical cognitive enounce-so human cubitus cubital joint way of life owe aesthetic constitute foretoken maven learner foretoken worldwide scrapper argot lucifer conformity manor house theatre field of operations abidance theatre of military operation manse dormitory dwell theatre ramble family of a zodiac circle write upwards natter circle bill signal of a zodiac rabble detractor eat angiotensin-convert enzyme business firm 3rd rude constabulary superpower-expose kitty apologise of the zodiac Asaph lollipop of an zodiac kin personal actualisation job sphere of origin credential scene plosive name and address sound recording choir consonant bring upwards-lib communicate babble to spoken pass pass roue horizon upwards of usage on aesthetic get patronise nub glider\n",
      "long ooutput\n",
      "along foretoken slither tour dine stopper-in by unexpended normal of Federative republic of Federative hearty-bewilder-garden hand truck social outline of regularize of pattern of territorial territorial territorial reserve formula bland tortuosity dough of Federative republic of Federative republic of Federative republic of Federative outgrowth of United workplace on bite of down of ranch away sleeve of United res publica sleeve of joint of rural receptive sphere of societal social mundane of Federative republic of Federative republic of Federative vowelise eld precept of Federative republic of Federative republic of Federative land of Federative Republic of Brazil ballock egg capable egg junkie pillow bob en lusus naturae gimcrack upwards ball with her self-embellish personality and invent flesh donnish schooldays twenty-four blinking solar twenty-four 60 minute menses admiration good-temper infirmary of an Acre tarnish-wakeless upper-hap game of unscathed groundwork of tone-constitute imposture nuclear telly display true pine tree diagram tree diagram diagram department of United DoS section of United States Department of State res publica 91 of garb of spin reap on forth escaped fair sex break wearing apparel frontmost of all Forth River river river river river river river river river river river river river river of all by constabulary nitty-gritty-by fertilisation sustain a pop off speculative at it squad alphabetical enceinte hatful contribution aid of an for a foremost article of fusee ricochet good of money full duskiness prince Edward Antony Richard Louis trey Edward Antony Richard Louis Thatch'randomness clayey baseball game cricket bat sleeve ploy old Cromwell of precept endure dress of lingual hearty undercoat bilk fathom-outflow verbal verbal hoopla over adjudicate grownup military homophile's man's gentleman de chambre of topic-fivesome-ampere. smorgasbord railroad track telephony countersink transmittance telephone circuit steer evade locomotor\n",
      "long ooutput\n",
      "vendue sartor-whole step sales event outcome resolution bridgework electric circuit circuit pitchfork-colourize geld-pace sales event read arrange upshot Walter Piston sleep match midriff social societal social mixed bag ostensible movement-Good Book photograph see discover amiable laugh jurisprudence of measurement of scintillate melodic memorial world sound thought public public opinion poll parrot societal social societal good-humored pictorial affair optic looking at opine grotesque normal of measurement of meter Nathan prince prince Prince Albert Francis Charles I Gaius Octavianus Emmanuel Francis Charles River two heptad Gaius Caesar Julius Caesar Octavianus Emmanuel duke of asterisk signboard of sign of the zodiac of House of Windsor ur Male mortal item-by-item sister, myself and yours rightfully, myself and ur boy, myself and me, myself and I mug accounting musical score home run Anthony Richard tribal ocean maitre d' ad-lib sexual activity natural process older-timekeeper chief boss Chief Joseph Joe Joe Joe head Chief Joseph Joe Joe Louis scratch cumulus garden rifle-go-cart Marcus bloodline cat circle cicatrix hybridization Susan B-complex vitamin. Susan Brownell Anthony Richard top frankfurter-smoothing iron-stigmatization smooth away nuclear telephone number 26 former-timekeeper old geezer head chief boss Chief Joseph Joe tribal sterling detent tribal old geezer old geezer gaffer Chief Joseph chieftain tribal chief chief Chief Joseph Joe foreman Chief Joseph Chief Joseph Joseph Louis Barrow tumulus lawn handcart lawn go-cart burial hoi polloi tumulus heptad Susan vulcanized fiber B vitamin. Susan boron-complex vitamin. Marcus smudge Marcus stigma Marcus Antonius Richard boss superscript upper barbaric Allium porrum wienerwurst top hot dog boss honcho knob chieftain Chief Joseph top genus genus genus genus genus Canis familiaris dependable-to-good geezer tribal chief top wienerwurst chieftain foreman chieftain Chief Joseph gaffer ear tribal wind genus\n",
      "long ooutput\n",
      "Canis familiaris senior pilot top hound honcho Chief Joseph tribal honcho headland chief chieftain boss Chief Joseph Joe Joe Joe Joe Chief Joseph Joe Louis garden cart garden conk out-go-cart lawn prepare aside-head start-go-cart lawn cart burial hummock quatern octonary Everett Nathan Nathan prince duke of kinsfolk of house of house of House of Windsor septenary American lyrical virgin a Virgin an virgin island 2 Marcus Marcus Deutsche photographic stain purpose Susan Marcus Antonius Richard boss gaffer tribal gaffer chief boss headman Chief Joseph Joe head old geezer caput honcho Chief Joseph Joe Joe chief Chief Joseph Chief Joseph Joseph Louis Barrow lawn cart barrowful tumulus barrowful Everett prince duke of reach signalise of the zodiac of dramatic art of mathematical process of theatre of operations of business firm of House of Windsor three-fold troika Everett St. deification George III trio 5 triplex quintette atomic mathematical 23 Ellery prince prince prince Prince Albert Edward I Anthony Richard Joe Louis stain Anthony Richard Joe Joe Louis patsy Marcus Mark Antony Richard tribal head chief Chief Joseph gaffer Chief Joseph Joe Joseph Louis Barrow tumulus wheelbarrow triple Everett Edward I eighter cross Susan Anthony Richard Joe Joseph Louis Barrow two 4th short Joe Everett St. George four five tether three Ellery Nathan George V I two Ellery Nathan Saint George Ellery Edward Everett Hale warehouse depot descend in concert chain.\n"
     ]
    }
   ],
   "source": [
    "input_sentence = \"50 Raze explodes out of Brazil with her big personality and big guns. Raze explodes out of Brazil with her big personality and big guns.\"\n",
    "full_verbosify(input_sentence)"
   ]
  },
  {
   "cell_type": "code",
   "execution_count": null,
   "metadata": {},
   "outputs": [],
   "source": []
  }
 ],
 "metadata": {
  "kernelspec": {
   "display_name": "Python 3",
   "language": "python",
   "name": "python3"
  },
  "language_info": {
   "codemirror_mode": {
    "name": "ipython",
    "version": 3
   },
   "file_extension": ".py",
   "mimetype": "text/x-python",
   "name": "python",
   "nbconvert_exporter": "python",
   "pygments_lexer": "ipython3",
   "version": "3.7.4"
  }
 },
 "nbformat": 4,
 "nbformat_minor": 2
}
