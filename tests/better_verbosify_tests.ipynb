{
 "cells": [
  {
   "cell_type": "code",
   "execution_count": 1,
   "metadata": {},
   "outputs": [],
   "source": [
    "import random\n",
    "\n",
    "from nltk.corpus import wordnet\n",
    "\n",
    "def elongate(word):\n",
    "    if len(word) == 1:\n",
    "        return word\n",
    "    longest = word\n",
    "    for syn in wordnet.synsets(word):\n",
    "        for lm in syn.lemmas():\n",
    "            if len(lm.name()) > len(longest) and lm.name().count('_') == 0:\n",
    "                longest = lm.name()\n",
    "    return longest\n",
    "\n",
    "def randomize(word):\n",
    "    if len(word) == 1:\n",
    "        return word\n",
    "    lemmas = []\n",
    "    for syn in wordnet.synsets(word):\n",
    "        lemmas.extend(syn.lemmas())\n",
    "    if len(lemmas):\n",
    "        word = random.choice(lemmas).name().replace('_', ' ')\n",
    "    return word"
   ]
  },
  {
   "cell_type": "code",
   "execution_count": 10,
   "metadata": {},
   "outputs": [
    {
     "name": "stdout",
     "output_type": "stream",
     "text": [
      "hurricane Hanna follow at present move west crosswise Confederate States of America Texas angstrom a class 1 hurricane from information technology landfall spotlight on military chaplain Island, simply the potential for dangerous flash deluge pass through the weekend. \n"
     ]
    }
   ],
   "source": [
    "out = ''\n",
    "s = \"Hurricane Hanna is now moving westward across South Texas as a Category 1 Hurricane from its landfall spot on Padre Island, but the potential for dangerous flash flooding extends through the weekend.\"\n",
    "words = s.split()\n",
    "if random.random() == 0.5:\n",
    "    for word in words:\n",
    "        out += elongate(word) + ' '\n",
    "else:\n",
    "    for word in words:\n",
    "        out += randomize(word) + ' '\n",
    "\n",
    "print(out)"
   ]
  },
  {
   "cell_type": "code",
   "execution_count": null,
   "metadata": {},
   "outputs": [],
   "source": []
  }
 ],
 "metadata": {
  "kernelspec": {
   "display_name": "Python 3",
   "language": "python",
   "name": "python3"
  },
  "language_info": {
   "codemirror_mode": {
    "name": "ipython",
    "version": 3
   },
   "file_extension": ".py",
   "mimetype": "text/x-python",
   "name": "python",
   "nbconvert_exporter": "python",
   "pygments_lexer": "ipython3",
   "version": "3.6.5"
  }
 },
 "nbformat": 4,
 "nbformat_minor": 4
}
